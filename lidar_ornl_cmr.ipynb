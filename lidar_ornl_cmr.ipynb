{
 "cells": [
  {
   "cell_type": "markdown",
   "metadata": {},
   "source": [
    "# Search ORNL DAAC for lidar datasets"
   ]
  },
  {
   "cell_type": "markdown",
   "metadata": {},
   "source": [
    "We will use NASA's Earthdata [CMR API](https://cmr.earthdata.nasa.gov/search) to search for lidar dataset. CMR catalogs metadata records of NASA Earth Science data and make them available for easy programmatic access."
   ]
  },
  {
   "cell_type": "code",
   "execution_count": 82,
   "metadata": {},
   "outputs": [],
   "source": [
    "import requests \n",
    "import pandas as pd\n",
    "from shapely.geometry import box\n",
    "import datetime as dt \n",
    "\n",
    "# search terms\n",
    "freetxt='lidar'\n",
    "\n",
    "# brazil bounding box\n",
    "bound = (-73.9872354804, -33.7683777809, -34.7299934555, 5.24448639569) \n",
    "\n",
    "# time bound\n",
    "dt_format = '%Y-%m-%dT%H:%M:%SZ'\n",
    "start_date = dt.datetime(2010, 1, 1) # specify your own start date\n",
    "end_date = dt.datetime(2018, 1, 1)  # specify your end start date\n",
    "temporal_str = start_date.strftime(dt_format) + ',' + end_date.strftime(dt_format)\n",
    "\n",
    "cmrurl='https://cmr.earthdata.nasa.gov/search/collections.json?data_center=ORNL_DAAC&page_size=1000' # CMR API base url for ORNL DAAC Data\n",
    "txtsearch = cmrurl + '&keyword=' + freetxt + \\\n",
    "                '&bounding_box[]=' + ','.join(map(str, bound)) + \\\n",
    "                '&temporal=' + temporal_str\n",
    "response = requests.get(txtsearch)\n",
    "collections = response.json()['feed']['entry']\n",
    "datasets = []\n",
    "for c in collections:\n",
    "    dataset_id = c['dataset_id']\n",
    "    concept_id = c['id']\n",
    "    processing_level_id = c['processing_level_id']\n",
    "    time_start = c['time_start']\n",
    "    time_end = c['time_end']\n",
    "    a = tuple(float(s) for s in c['boxes'][0].split (\" \"))\n",
    "    boxes = box(a[1], a[0], a[3], a[2])\n",
    "    \n",
    "    # get dataset doi\n",
    "    for j in c['links']:\n",
    "        links = j['href']\n",
    "        if links.startswith('https://doi.org/'):\n",
    "            doi = j['href']\n",
    "    datasets.append([dataset_id, concept_id, doi, processing_level_id, time_start, time_end, boxes])\n",
    "    \n",
    "cmrpd = pd.DataFrame(datasets, columns=[\"dataset_id\", \"concept_id\", \"DOI\", \"proc_level\", \"time_start\", \"time_end\", \"boxes\"])"
   ]
  },
  {
   "cell_type": "markdown",
   "metadata": {},
   "source": [
    "Now, let's list the datasets below."
   ]
  },
  {
   "cell_type": "code",
   "execution_count": 83,
   "metadata": {},
   "outputs": [
    {
     "data": {
      "text/html": [
       "<style type=\"text/css\">\n",
       "</style>\n",
       "<table id=\"T_da6f9_\">\n",
       "  <thead>\n",
       "    <tr>\n",
       "      <th class=\"blank level0\" >&nbsp;</th>\n",
       "      <th class=\"col_heading level0 col0\" >dataset_id</th>\n",
       "      <th class=\"col_heading level0 col1\" >concept_id</th>\n",
       "      <th class=\"col_heading level0 col2\" >DOI</th>\n",
       "      <th class=\"col_heading level0 col3\" >proc_level</th>\n",
       "      <th class=\"col_heading level0 col4\" >time_start</th>\n",
       "      <th class=\"col_heading level0 col5\" >time_end</th>\n",
       "      <th class=\"col_heading level0 col6\" >boxes</th>\n",
       "    </tr>\n",
       "  </thead>\n",
       "  <tbody>\n",
       "    <tr>\n",
       "      <th id=\"T_da6f9_level0_row0\" class=\"row_heading level0 row0\" >0</th>\n",
       "      <td id=\"T_da6f9_row0_col0\" class=\"data row0 col0\" >LiDAR Surveys over Selected Forest Research Sites, Brazilian Amazon, 2008-2018</td>\n",
       "      <td id=\"T_da6f9_row0_col1\" class=\"data row0 col1\" >C1680861772-ORNL_DAAC</td>\n",
       "      <td id=\"T_da6f9_row0_col2\" class=\"data row0 col2\" ><a href=\"https://doi.org/10.3334/ORNLDAAC/1644\">https://doi.org/10.3334/ORNLDAAC/1644</a></td>\n",
       "      <td id=\"T_da6f9_row0_col3\" class=\"data row0 col3\" >1B</td>\n",
       "      <td id=\"T_da6f9_row0_col4\" class=\"data row0 col4\" >2008-01-01T00:00:00.000Z</td>\n",
       "      <td id=\"T_da6f9_row0_col5\" class=\"data row0 col5\" >2018-12-31T23:59:59.000Z</td>\n",
       "      <td id=\"T_da6f9_row0_col6\" class=\"data row0 col6\" >POLYGON ((-39.06 -26.7, -39.06 -1.58, -68.3 -1.58, -68.3 -26.7, -39.06 -26.7))</td>\n",
       "    </tr>\n",
       "    <tr>\n",
       "      <th id=\"T_da6f9_level0_row1\" class=\"row_heading level0 row1\" >1</th>\n",
       "      <td id=\"T_da6f9_row1_col0\" class=\"data row1 col0\" >CMS: LiDAR Data for Forested Areas in Paragominas, Para, Brazil, 2012-2014</td>\n",
       "      <td id=\"T_da6f9_row1_col1\" class=\"data row1 col1\" >C1000000761-ORNL_DAAC</td>\n",
       "      <td id=\"T_da6f9_row1_col2\" class=\"data row1 col2\" ><a href=\"https://doi.org/10.3334/ORNLDAAC/1302\">https://doi.org/10.3334/ORNLDAAC/1302</a></td>\n",
       "      <td id=\"T_da6f9_row1_col3\" class=\"data row1 col3\" >3</td>\n",
       "      <td id=\"T_da6f9_row1_col4\" class=\"data row1 col4\" >2012-07-27T00:00:00.000Z</td>\n",
       "      <td id=\"T_da6f9_row1_col5\" class=\"data row1 col5\" >2014-12-27T23:59:59.000Z</td>\n",
       "      <td id=\"T_da6f9_row1_col6\" class=\"data row1 col6\" >POLYGON ((-46.79 -3.77, -46.79 -2.55, -48.5 -2.55, -48.5 -3.77, -46.79 -3.77))</td>\n",
       "    </tr>\n",
       "    <tr>\n",
       "      <th id=\"T_da6f9_level0_row2\" class=\"row_heading level0 row2\" >2</th>\n",
       "      <td id=\"T_da6f9_row2_col0\" class=\"data row2 col0\" >LiDAR and PALSAR-Derived Forest Aboveground Biomass, Paragominas, Para, Brazil, 2012</td>\n",
       "      <td id=\"T_da6f9_row2_col1\" class=\"data row2 col1\" >C1616834124-ORNL_DAAC</td>\n",
       "      <td id=\"T_da6f9_row2_col2\" class=\"data row2 col2\" ><a href=\"https://doi.org/10.3334/ORNLDAAC/1648\">https://doi.org/10.3334/ORNLDAAC/1648</a></td>\n",
       "      <td id=\"T_da6f9_row2_col3\" class=\"data row2 col3\" >3</td>\n",
       "      <td id=\"T_da6f9_row2_col4\" class=\"data row2 col4\" >2012-01-01T00:00:00.000Z</td>\n",
       "      <td id=\"T_da6f9_row2_col5\" class=\"data row2 col5\" >2013-12-31T23:59:59.000Z</td>\n",
       "      <td id=\"T_da6f9_row2_col6\" class=\"data row2 col6\" >POLYGON ((-46 -4.01, -46 -2, -49 -2, -49 -4.01, -46 -4.01))</td>\n",
       "    </tr>\n",
       "    <tr>\n",
       "      <th id=\"T_da6f9_level0_row3\" class=\"row_heading level0 row3\" >3</th>\n",
       "      <td id=\"T_da6f9_row3_col0\" class=\"data row3 col0\" >Aboveground Biomass Change for Amazon Basin, Mexico, and Pantropical Belt, 2003-2016</td>\n",
       "      <td id=\"T_da6f9_row3_col1\" class=\"data row3 col1\" >C2015954203-ORNL_DAAC</td>\n",
       "      <td id=\"T_da6f9_row3_col2\" class=\"data row3 col2\" ><a href=\"https://doi.org/10.3334/ORNLDAAC/1824\">https://doi.org/10.3334/ORNLDAAC/1824</a></td>\n",
       "      <td id=\"T_da6f9_row3_col3\" class=\"data row3 col3\" >3</td>\n",
       "      <td id=\"T_da6f9_row3_col4\" class=\"data row3 col4\" >2003-01-01T00:00:00.000Z</td>\n",
       "      <td id=\"T_da6f9_row3_col5\" class=\"data row3 col5\" >2016-12-31T23:59:59.000Z</td>\n",
       "      <td id=\"T_da6f9_row3_col6\" class=\"data row3 col6\" >POLYGON ((180 -30, 180 40, -180 40, -180 -30, 180 -30))</td>\n",
       "    </tr>\n",
       "    <tr>\n",
       "      <th id=\"T_da6f9_level0_row4\" class=\"row_heading level0 row4\" >4</th>\n",
       "      <td id=\"T_da6f9_row4_col0\" class=\"data row4 col0\" >Tree Inventory and Biometry Measurements, Tapajos National Forest, Para, Brazil, 2010</td>\n",
       "      <td id=\"T_da6f9_row4_col1\" class=\"data row4 col1\" >C1457055048-ORNL_DAAC</td>\n",
       "      <td id=\"T_da6f9_row4_col2\" class=\"data row4 col2\" ><a href=\"https://doi.org/10.3334/ORNLDAAC/1552\">https://doi.org/10.3334/ORNLDAAC/1552</a></td>\n",
       "      <td id=\"T_da6f9_row4_col3\" class=\"data row4 col3\" >2</td>\n",
       "      <td id=\"T_da6f9_row4_col4\" class=\"data row4 col4\" >2010-08-31T00:00:00.000Z</td>\n",
       "      <td id=\"T_da6f9_row4_col5\" class=\"data row4 col5\" >2010-09-16T23:59:59.000Z</td>\n",
       "      <td id=\"T_da6f9_row4_col6\" class=\"data row4 col6\" >POLYGON ((-54.95 -3.15, -54.95 -2.86, -54.99 -2.86, -54.99 -3.15, -54.95 -3.15))</td>\n",
       "    </tr>\n",
       "  </tbody>\n",
       "</table>\n"
      ],
      "text/plain": [
       "<pandas.io.formats.style.Styler at 0x125e8a6d0>"
      ]
     },
     "execution_count": 83,
     "metadata": {},
     "output_type": "execute_result"
    }
   ],
   "source": [
    "def make_clickable(val):\n",
    "    return '<a href=\"{}\">{}</a>'.format(val,val)\n",
    "\n",
    "cmrpd.style.format({'DOI': make_clickable})"
   ]
  },
  {
   "cell_type": "markdown",
   "metadata": {},
   "source": [
    "Let's say we are interested in above ground biomass."
   ]
  },
  {
   "cell_type": "code",
   "execution_count": 87,
   "metadata": {},
   "outputs": [
    {
     "data": {
      "text/plain": [
       "0    Annotation(-53.68, -14.14, 'C1680861772-ORNL_D...\n",
       "1    Annotation(-47.645, -3.16, 'C1000000761-ORNL_D...\n",
       "2    Annotation(-47.5, -3.005, 'C1616834124-ORNL_DA...\n",
       "3           Annotation(-0, 5, 'C2015954203-ORNL_DAAC')\n",
       "4    Annotation(-54.97, -3.005, 'C1457055048-ORNL_D...\n",
       "dtype: object"
      ]
     },
     "execution_count": 87,
     "metadata": {},
     "output_type": "execute_result"
    },
    {
     "data": {
      "image/png": "[encoded data removed]",
      "text/plain": [
       "<Figure size 1008x1008 with 1 Axes>"
      ]
     },
     "metadata": {
      "needs_background": "light"
     },
     "output_type": "display_data"
    }
   ],
   "source": [
    "import geopandas\n",
    "gdf = geopandas.GeoDataFrame(cmrpd, geometry=cmrpd.boxes)\n",
    "world = geopandas.read_file(geopandas.datasets.get_path('naturalearth_lowres'))\n",
    "base = world[world.continent == 'South America'].plot(color='white', edgecolor='black', figsize  = (14, 14))\n",
    "ax= gdf.plot(ax=base, alpha=0.5)\n",
    "gdf.apply(lambda x: ax.annotate(s=x.concept_id, xy=x.geometry.centroid.coords[0], ha='center'),axis=1)\n"
   ]
  },
  {
   "cell_type": "code",
   "execution_count": 77,
   "metadata": {},
   "outputs": [
    {
     "ename": "TypeError",
     "evalue": "box() missing 3 required positional arguments: 'miny', 'maxx', and 'maxy'",
     "output_type": "error",
     "traceback": [
      "\u001b[0;31m---------------------------------------------------------------------------\u001b[0m",
      "\u001b[0;31mTypeError\u001b[0m                                 Traceback (most recent call last)",
      "\u001b[0;32m<ipython-input-77-9dc09666e952>\u001b[0m in \u001b[0;36m<module>\u001b[0;34m\u001b[0m\n\u001b[0;32m----> 1\u001b[0;31m \u001b[0mbox\u001b[0m\u001b[0;34m(\u001b[0m\u001b[0mcollections\u001b[0m\u001b[0;34m[\u001b[0m\u001b[0;36m0\u001b[0m\u001b[0;34m]\u001b[0m\u001b[0;34m[\u001b[0m\u001b[0;34m'boxes'\u001b[0m\u001b[0;34m]\u001b[0m\u001b[0;34m[\u001b[0m\u001b[0;36m0\u001b[0m\u001b[0;34m]\u001b[0m\u001b[0;34m)\u001b[0m\u001b[0;34m\u001b[0m\u001b[0;34m\u001b[0m\u001b[0m\n\u001b[0m",
      "\u001b[0;31mTypeError\u001b[0m: box() missing 3 required positional arguments: 'miny', 'maxx', and 'maxy'"
     ]
    }
   ],
   "source": []
  },
  {
   "cell_type": "code",
   "execution_count": 78,
   "metadata": {},
   "outputs": [],
   "source": []
  },
  {
   "cell_type": "code",
   "execution_count": 81,
   "metadata": {},
   "outputs": [
    {
     "data": {
      "image/svg+xml": [
       "<svg xmlns=\"http://www.w3.org/2000/svg\" xmlns:xlink=\"http://www.w3.org/1999/xlink\" width=\"100.0\" height=\"100.0\" viewBox=\"-69.4696 -27.8696 31.5792 27.4592\" preserveAspectRatio=\"xMinYMin meet\"><g transform=\"matrix(1,0,0,-1,0,-28.279999999999998)\"><path fill-rule=\"evenodd\" fill=\"#66cc99\" stroke=\"#555555\" stroke-width=\"0.631584\" opacity=\"0.6\" d=\"M -39.06,-26.7 L -39.06,-1.58 L -68.3,-1.58 L -68.3,-26.7 L -39.06,-26.7 z\" /></g></svg>"
      ],
      "text/plain": [
       "<shapely.geometry.polygon.Polygon at 0x125e8ad90>"
      ]
     },
     "execution_count": 81,
     "metadata": {},
     "output_type": "execute_result"
    }
   ],
   "source": [
    "box(a[1], a[0], a[3], a[2])"
   ]
  },
  {
   "cell_type": "code",
   "execution_count": null,
   "metadata": {},
   "outputs": [],
   "source": []
  }
 ],
 "metadata": {
  "kernelspec": {
   "display_name": "Python 3",
   "language": "python",
   "name": "python3"
  },
  "language_info": {
   "codemirror_mode": {
    "name": "ipython",
    "version": 3
   },
   "file_extension": ".py",
   "mimetype": "text/x-python",
   "name": "python",
   "nbconvert_exporter": "python",
   "pygments_lexer": "ipython3",
   "version": "3.8.0"
  }
 },
 "nbformat": 4,
 "nbformat_minor": 2
}
