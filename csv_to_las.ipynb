{
 "cells": [
  {
   "cell_type": "markdown",
   "metadata": {},
   "source": [
    "#  Converting a CSV file to LAS in python"
   ]
  },
  {
   "cell_type": "markdown",
   "metadata": {},
   "source": [
    "LAS is an industry standard binary data format for 3D point cloud data collected using airborne LiDAR and terrestrial laser scanner (TLS). Most recent specification is [LAS 1.4 R15](http://www.asprs.org/wp-content/uploads/2019/07/LAS_1_4_r15.pdf). Various lossless compressed formats also exists such as LAZ and zLAS. See [here](https://www.loc.gov/preservation/digital/formats/fdd/fdd000418.shtml) for more details.\n",
    "\n",
    "A LAS file contains following sections:\n",
    "1. Public header block\n",
    "2. Variable Length Records (VLRs) (optional)\n",
    "3. Point Data Records (PDRs)\n",
    "4. Extended Variable Length Records (EVLRs) (optional)\n",
    "\n",
    "We will use [LASpy python library](https://github.com/laspy/laspy) to write a LIDAR data in LAS format.\n"
   ]
  },
  {
   "cell_type": "markdown",
   "metadata": {},
   "source": [
    "Download this [csv file](https://daacingest.ornl.gov/ingest/browse/095355e2b8/AK_fte_TLS_plot1.csv). We will convert this to LAS file."
   ]
  },
  {
   "cell_type": "markdown",
   "metadata": {},
   "source": [
    "Let's open and check the first few lines of the csv file. We will use python's pandas module"
   ]
  },
  {
   "cell_type": "code",
   "execution_count": 100,
   "metadata": {},
   "outputs": [
    {
     "data": {
      "text/html": [
       "<div>\n",
       "<style scoped>\n",
       "    .dataframe tbody tr th:only-of-type {\n",
       "        vertical-align: middle;\n",
       "    }\n",
       "\n",
       "    .dataframe tbody tr th {\n",
       "        vertical-align: top;\n",
       "    }\n",
       "\n",
       "    .dataframe thead th {\n",
       "        text-align: right;\n",
       "    }\n",
       "</style>\n",
       "<table border=\"1\" class=\"dataframe\">\n",
       "  <thead>\n",
       "    <tr style=\"text-align: right;\">\n",
       "      <th></th>\n",
       "      <th>x</th>\n",
       "      <th>y</th>\n",
       "      <th>z</th>\n",
       "    </tr>\n",
       "  </thead>\n",
       "  <tbody>\n",
       "    <tr>\n",
       "      <th>0</th>\n",
       "      <td>386286.201360</td>\n",
       "      <td>7.547559e+06</td>\n",
       "      <td>802.495770</td>\n",
       "    </tr>\n",
       "    <tr>\n",
       "      <th>1</th>\n",
       "      <td>386466.839783</td>\n",
       "      <td>7.547565e+06</td>\n",
       "      <td>736.517112</td>\n",
       "    </tr>\n",
       "    <tr>\n",
       "      <th>2</th>\n",
       "      <td>386465.316100</td>\n",
       "      <td>7.547565e+06</td>\n",
       "      <td>736.543581</td>\n",
       "    </tr>\n",
       "    <tr>\n",
       "      <th>3</th>\n",
       "      <td>386465.804590</td>\n",
       "      <td>7.547565e+06</td>\n",
       "      <td>737.190824</td>\n",
       "    </tr>\n",
       "    <tr>\n",
       "      <th>4</th>\n",
       "      <td>386465.977808</td>\n",
       "      <td>7.547565e+06</td>\n",
       "      <td>737.040793</td>\n",
       "    </tr>\n",
       "  </tbody>\n",
       "</table>\n",
       "</div>"
      ],
      "text/plain": [
       "               x             y           z\n",
       "0  386286.201360  7.547559e+06  802.495770\n",
       "1  386466.839783  7.547565e+06  736.517112\n",
       "2  386465.316100  7.547565e+06  736.543581\n",
       "3  386465.804590  7.547565e+06  737.190824\n",
       "4  386465.977808  7.547565e+06  737.040793"
      ]
     },
     "execution_count": 100,
     "metadata": {},
     "output_type": "execute_result"
    }
   ],
   "source": [
    "import pandas as pd\n",
    "# incsv = pd.read_csv(\"AK_fte_TLS_plot1.csv\", nrows=10)\n",
    "incsv = pd.read_csv(\"AK_fte_TLS_plot1.csv\")\n",
    "incsv.head()"
   ]
  },
  {
   "cell_type": "markdown",
   "metadata": {},
   "source": [
    "The file contains the x, y, z coordinates for each point. From [metadata information file](https://daacingest.ornl.gov/ingest/browse/095355e2b8/AK_TLS_data_documentation.txt), we know that the units of these are in meters and projection is `UTM zone 5N`. Now, we will use laspy to convert the csv to a properly formatted las file."
   ]
  },
  {
   "cell_type": "code",
   "execution_count": 102,
   "metadata": {},
   "outputs": [],
   "source": [
    "import laspy\n",
    "import numpy as np\n",
    "\n",
    "# set LAS version to 1.4\n",
    "lasheader = laspy.header.Header(file_version=1.4)\n",
    "olas = laspy.file.File(\"AK_fte_TLS_plot1.las\", mode=\"w\", header=lasheader)\n",
    "\n",
    "xoffset = np.floor(incsv.x.min())\n",
    "yoffset = np.floor(incsv.y.min())\n",
    "zoffset = np.floor(incsv.z.min())\n",
    "\n",
    "# because we have six decimals\n",
    "x_scale = y_scale = z_scale = 0.000001\n",
    "\n",
    "\n",
    "olas.header.offset = [xmin,ymin,zmin]\n",
    "olas.header.scale = [x_scale,y_scale,z_scale]\n",
    "\n",
    "olas.X = (incsv.x.values - xoffset)/x_scale\n",
    "olas.Y = (incsv.y.values - zoffset)/y_scale\n",
    "olas.Z = (incsv.z.values - zoffset)/z_scale\n",
    "\n",
    "olas.close()"
   ]
  },
  {
   "cell_type": "markdown",
   "metadata": {},
   "source": [
    "Now let's read the las file we just created, print its header and check everything is ok."
   ]
  },
  {
   "cell_type": "code",
   "execution_count": 103,
   "metadata": {},
   "outputs": [
    {
     "name": "stdout",
     "output_type": "stream",
     "text": [
      "LAS Version: 1.4\n",
      "Date: 2020-06-02 00:00:00\n",
      "Point Format: 0\n",
      "Number of Point Records: 50466852\n",
      "Min X Y Z: [386286.741259, 7545410.516352, 736.292717]\n",
      "Max X Y Z: [386694.773087, 7545410.516352, 841.045955]\n",
      "Offset X Y Z: [386286.0, 7547558.0, 736.0]\n",
      "Scale X Y Z: [1e-06, 1e-06, 1e-06]\n",
      "Point Dimensions: \n",
      "    X\n",
      "    Y\n",
      "    Z\n",
      "    intensity\n",
      "    flag_byte\n",
      "    raw_classification\n",
      "    scan_angle_rank\n",
      "    user_data\n",
      "    pt_src_id\n",
      "Data Array: \n",
      "X [386368.20136  386548.839783 386547.316099 ... 386545.562493 386573.582644\n",
      " 386559.288507]\n",
      "Y [7545410.516352 7545410.516352 7545410.516352 ... 7545410.516352\n",
      " 7545410.516352 7545410.516352]\n",
      "Z [815.49577  749.517111 749.54358  ... 748.56075  752.514111 750.368455]\n"
     ]
    }
   ],
   "source": [
    "inlas = laspy.file.File(\"AK_fte_TLS_plot1.las\", mode=\"r\")\n",
    "print(\"LAS Version: \" + str(inlas.header.version))\n",
    "print(\"Date: \" + str(inlas.header.date))\n",
    "print(\"Point Format: \" + str(inlas.header.data_format_id))\n",
    "print(\"Number of Point Records: \" + str(len(inlas)))\n",
    "print(\"Min X Y Z: \" + str(inlas.header.min))\n",
    "print(\"Max X Y Z: \" + str(inlas.header.max))\n",
    "print(\"Offset X Y Z: \" + str(inlas.header.offset))\n",
    "print(\"Scale X Y Z: \" + str(inlas.header.scale))\n",
    "print(\"Point Dimensions: \")\n",
    "for dim in inlas.point_format:\n",
    "    print(\"    \" + dim.name)\n",
    "\n",
    "print(\"Data Array: \")\n",
    "data = np.vstack((inlas.x, inlas.y, inlas.z)).transpose()  \n",
    "print(\"X\", inlas.x)\n",
    "print(\"Y\", inlas.y)\n",
    "print(\"Z\", inlas.z)\n",
    "inlas.close()"
   ]
  },
  {
   "cell_type": "markdown",
   "metadata": {},
   "source": [
    "You can now view the las files in a las viewer to check if they look ok. Here is one good/free one: http://lidarview.com/"
   ]
  }
 ],
 "metadata": {
  "kernelspec": {
   "display_name": "Python 3",
   "language": "python",
   "name": "python3"
  },
  "language_info": {
   "codemirror_mode": {
    "name": "ipython",
    "version": 3
   },
   "file_extension": ".py",
   "mimetype": "text/x-python",
   "name": "python",
   "nbconvert_exporter": "python",
   "pygments_lexer": "ipython3",
   "version": "3.8.0"
  }
 },
 "nbformat": 4,
 "nbformat_minor": 2
}
